{
  "nbformat": 4,
  "nbformat_minor": 0,
  "metadata": {
    "colab": {
      "provenance": []
    },
    "kernelspec": {
      "name": "python3",
      "display_name": "Python 3"
    },
    "language_info": {
      "name": "python"
    }
  },
  "cells": [
    {
      "cell_type": "code",
      "execution_count": 1,
      "metadata": {
        "colab": {
          "base_uri": "https://localhost:8080/"
        },
        "id": "9HBHJsxCz_Aw",
        "outputId": "b2747f5f-c10b-4223-bd06-147ac03973a5"
      },
      "outputs": [
        {
          "output_type": "stream",
          "name": "stdout",
          "text": [
            "Updated Weights W1:\n",
            " [[ 0.49812419 -0.1382361 ]\n",
            " [ 0.64837191  1.52304352]]\n",
            "Updated Biases b1:\n",
            " [[-0.23133329]\n",
            " [-0.23277022]]\n",
            "Updated Weights W2:\n",
            " [[1.58280736 0.77119361]]\n",
            "Updated Biases b2:\n",
            " [[-0.46233109]]\n"
          ]
        }
      ],
      "source": [
        "import numpy as np\n",
        "\n",
        "# Given training data sample\n",
        "x = np.array([[0.5], [0.01]])  # Inputs\n",
        "y_true = np.array([[1]])  # Expected output\n",
        "\n",
        "# Random initial weights and bias (assumed)\n",
        "np.random.seed(42)  # For reproducibility\n",
        "W1 = np.random.randn(2, 2)  # Weights for hidden layer\n",
        "b1 = np.random.randn(2, 1)  # Bias for hidden layer\n",
        "W2 = np.random.randn(1, 2)  # Weights for output layer\n",
        "b2 = np.random.randn(1, 1)  # Bias for output layer\n",
        "\n",
        "# Activation function (Sigmoid)\n",
        "def sigmoid(z):\n",
        "    return 1 / (1 + np.exp(-z))\n",
        "\n",
        "# Derivative of Sigmoid\n",
        "def sigmoid_derivative(z):\n",
        "    return sigmoid(z) * (1 - sigmoid(z))\n",
        "\n",
        "# Forward Pass\n",
        "z1 = np.dot(W1, x) + b1\n",
        "a1 = sigmoid(z1)\n",
        "\n",
        "z2 = np.dot(W2, a1) + b2\n",
        "a2 = sigmoid(z2)  # Output layer activation\n",
        "\n",
        "# Compute error\n",
        "error = a2 - y_true\n",
        "\n",
        "# Backpropagation\n",
        "d_a2 = error * sigmoid_derivative(z2)  # Output layer delta\n",
        "d_W2 = np.dot(d_a2, a1.T)\n",
        "d_b2 = d_a2\n",
        "\n",
        "d_a1 = np.dot(W2.T, d_a2) * sigmoid_derivative(z1)  # Hidden layer delta\n",
        "d_W1 = np.dot(d_a1, x.T)\n",
        "d_b1 = d_a1\n",
        "\n",
        "# Update weights and biases\n",
        "learning_rate = 0.1\n",
        "W2 -= learning_rate * d_W2\n",
        "b2 -= learning_rate * d_b2\n",
        "W1 -= learning_rate * d_W1\n",
        "b1 -= learning_rate * d_b1\n",
        "\n",
        "# Display updated parameters\n",
        "print(\"Updated Weights W1:\\n\", W1)\n",
        "print(\"Updated Biases b1:\\n\", b1)\n",
        "print(\"Updated Weights W2:\\n\", W2)\n",
        "print(\"Updated Biases b2:\\n\", b2)\n"
      ]
    }
  ]
}